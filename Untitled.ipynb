{
 "cells": [
  {
   "cell_type": "markdown",
   "id": "c7b07c98",
   "metadata": {},
   "source": [
    "# ANALYSE DES DONNEES DE VENTES "
   ]
  },
  {
   "cell_type": "raw",
   "id": "b74fbeb0",
   "metadata": {},
   "source": [
    "Vous trouverez les informations par rapport a ce jeu de donnees dans le fichier readme.md"
   ]
  },
  {
   "cell_type": "code",
   "execution_count": 116,
   "id": "ad8eb61c",
   "metadata": {},
   "outputs": [],
   "source": [
    "# importatnion des bibliotheques\n",
    "import pandas as pd \n",
    "import numpy as np\n",
    "import seaborn as sns\n",
    "import plotly.express as px\n",
    "import matplotlib.pyplot as plt"
   ]
  },
  {
   "cell_type": "code",
   "execution_count": 117,
   "id": "f76fcc46",
   "metadata": {},
   "outputs": [],
   "source": [
    "# importation des donnees \n",
    "df1 = pd.read_csv('../data/Sales_January_2019.csv', index_col='Order Date', \n",
    "                 parse_dates=True)\n",
    "df2 = pd.read_csv('../data/Sales_February_2019.csv', index_col='Order Date', \n",
    "                 parse_dates=True)\n",
    "df3 = pd.read_csv('../data/Sales_March_2019.csv', index_col='Order Date', \n",
    "                 parse_dates=True)\n",
    "df4 = pd.read_csv('../data/Sales_April_2019.csv', index_col='Order Date', \n",
    "                 parse_dates=True)\n",
    "df5 = pd.read_csv('../data/Sales_May_2019.csv', index_col='Order Date', \n",
    "                 parse_dates=True)\n",
    "df6 = pd.read_csv('../data/Sales_June_2019.csv', index_col='Order Date', \n",
    "                 parse_dates=True)\n",
    "df7 = pd.read_csv('../data/Sales_July_2019.csv', index_col='Order Date', \n",
    "                 parse_dates=True)\n",
    "df8 = pd.read_csv('../data/Sales_August_2019.csv', index_col='Order Date', \n",
    "                 parse_dates=True)\n",
    "df9 = pd.read_csv('../data/Sales_September_2019.csv', index_col='Order Date', \n",
    "                 parse_dates=True)\n",
    "df10 = pd.read_csv('../data/Sales_October_2019.csv', index_col='Order Date', \n",
    "                 parse_dates=True)\n",
    "df11 = pd.read_csv('../data/Sales_November_2019.csv', index_col='Order Date', \n",
    "                 parse_dates=True)\n",
    "df12 = pd.read_csv('../data/Sales_December_2019.csv', index_col='Order Date', \n",
    "                 parse_dates=True)"
   ]
  },
  {
   "cell_type": "code",
   "execution_count": 118,
   "id": "2dedce0c",
   "metadata": {},
   "outputs": [
    {
     "data": {
      "text/html": [
       "<div>\n",
       "<style scoped>\n",
       "    .dataframe tbody tr th:only-of-type {\n",
       "        vertical-align: middle;\n",
       "    }\n",
       "\n",
       "    .dataframe tbody tr th {\n",
       "        vertical-align: top;\n",
       "    }\n",
       "\n",
       "    .dataframe thead th {\n",
       "        text-align: right;\n",
       "    }\n",
       "</style>\n",
       "<table border=\"1\" class=\"dataframe\">\n",
       "  <thead>\n",
       "    <tr style=\"text-align: right;\">\n",
       "      <th></th>\n",
       "      <th>Order ID</th>\n",
       "      <th>Product</th>\n",
       "      <th>Quantity Ordered</th>\n",
       "      <th>Price Each</th>\n",
       "      <th>Purchase Address</th>\n",
       "    </tr>\n",
       "    <tr>\n",
       "      <th>Order Date</th>\n",
       "      <th></th>\n",
       "      <th></th>\n",
       "      <th></th>\n",
       "      <th></th>\n",
       "      <th></th>\n",
       "    </tr>\n",
       "  </thead>\n",
       "  <tbody>\n",
       "    <tr>\n",
       "      <th>01/22/19 21:25</th>\n",
       "      <td>141234</td>\n",
       "      <td>iPhone</td>\n",
       "      <td>1</td>\n",
       "      <td>700</td>\n",
       "      <td>944 Walnut St, Boston, MA 02215</td>\n",
       "    </tr>\n",
       "    <tr>\n",
       "      <th>01/28/19 14:15</th>\n",
       "      <td>141235</td>\n",
       "      <td>Lightning Charging Cable</td>\n",
       "      <td>1</td>\n",
       "      <td>14.95</td>\n",
       "      <td>185 Maple St, Portland, OR 97035</td>\n",
       "    </tr>\n",
       "    <tr>\n",
       "      <th>01/17/19 13:33</th>\n",
       "      <td>141236</td>\n",
       "      <td>Wired Headphones</td>\n",
       "      <td>2</td>\n",
       "      <td>11.99</td>\n",
       "      <td>538 Adams St, San Francisco, CA 94016</td>\n",
       "    </tr>\n",
       "    <tr>\n",
       "      <th>01/05/19 20:33</th>\n",
       "      <td>141237</td>\n",
       "      <td>27in FHD Monitor</td>\n",
       "      <td>1</td>\n",
       "      <td>149.99</td>\n",
       "      <td>738 10th St, Los Angeles, CA 90001</td>\n",
       "    </tr>\n",
       "    <tr>\n",
       "      <th>01/25/19 11:59</th>\n",
       "      <td>141238</td>\n",
       "      <td>Wired Headphones</td>\n",
       "      <td>1</td>\n",
       "      <td>11.99</td>\n",
       "      <td>387 10th St, Austin, TX 73301</td>\n",
       "    </tr>\n",
       "    <tr>\n",
       "      <th>...</th>\n",
       "      <td>...</td>\n",
       "      <td>...</td>\n",
       "      <td>...</td>\n",
       "      <td>...</td>\n",
       "      <td>...</td>\n",
       "    </tr>\n",
       "    <tr>\n",
       "      <th>12/11/19 20:58</th>\n",
       "      <td>319666</td>\n",
       "      <td>Lightning Charging Cable</td>\n",
       "      <td>1</td>\n",
       "      <td>14.95</td>\n",
       "      <td>14 Madison St, San Francisco, CA 94016</td>\n",
       "    </tr>\n",
       "    <tr>\n",
       "      <th>12/01/19 12:01</th>\n",
       "      <td>319667</td>\n",
       "      <td>AA Batteries (4-pack)</td>\n",
       "      <td>2</td>\n",
       "      <td>3.84</td>\n",
       "      <td>549 Willow St, Los Angeles, CA 90001</td>\n",
       "    </tr>\n",
       "    <tr>\n",
       "      <th>12/09/19 06:43</th>\n",
       "      <td>319668</td>\n",
       "      <td>Vareebadd Phone</td>\n",
       "      <td>1</td>\n",
       "      <td>400</td>\n",
       "      <td>273 Wilson St, Seattle, WA 98101</td>\n",
       "    </tr>\n",
       "    <tr>\n",
       "      <th>12/03/19 10:39</th>\n",
       "      <td>319669</td>\n",
       "      <td>Wired Headphones</td>\n",
       "      <td>1</td>\n",
       "      <td>11.99</td>\n",
       "      <td>778 River St, Dallas, TX 75001</td>\n",
       "    </tr>\n",
       "    <tr>\n",
       "      <th>12/21/19 21:45</th>\n",
       "      <td>319670</td>\n",
       "      <td>Bose SoundSport Headphones</td>\n",
       "      <td>1</td>\n",
       "      <td>99.99</td>\n",
       "      <td>747 Chestnut St, Los Angeles, CA 90001</td>\n",
       "    </tr>\n",
       "  </tbody>\n",
       "</table>\n",
       "<p>186850 rows × 5 columns</p>\n",
       "</div>"
      ],
      "text/plain": [
       "               Order ID                     Product Quantity Ordered  \\\n",
       "Order Date                                                             \n",
       "01/22/19 21:25   141234                      iPhone                1   \n",
       "01/28/19 14:15   141235    Lightning Charging Cable                1   \n",
       "01/17/19 13:33   141236            Wired Headphones                2   \n",
       "01/05/19 20:33   141237            27in FHD Monitor                1   \n",
       "01/25/19 11:59   141238            Wired Headphones                1   \n",
       "...                 ...                         ...              ...   \n",
       "12/11/19 20:58   319666    Lightning Charging Cable                1   \n",
       "12/01/19 12:01   319667       AA Batteries (4-pack)                2   \n",
       "12/09/19 06:43   319668             Vareebadd Phone                1   \n",
       "12/03/19 10:39   319669            Wired Headphones                1   \n",
       "12/21/19 21:45   319670  Bose SoundSport Headphones                1   \n",
       "\n",
       "               Price Each                        Purchase Address  \n",
       "Order Date                                                         \n",
       "01/22/19 21:25        700         944 Walnut St, Boston, MA 02215  \n",
       "01/28/19 14:15      14.95        185 Maple St, Portland, OR 97035  \n",
       "01/17/19 13:33      11.99   538 Adams St, San Francisco, CA 94016  \n",
       "01/05/19 20:33     149.99      738 10th St, Los Angeles, CA 90001  \n",
       "01/25/19 11:59      11.99           387 10th St, Austin, TX 73301  \n",
       "...                   ...                                     ...  \n",
       "12/11/19 20:58      14.95  14 Madison St, San Francisco, CA 94016  \n",
       "12/01/19 12:01       3.84    549 Willow St, Los Angeles, CA 90001  \n",
       "12/09/19 06:43        400        273 Wilson St, Seattle, WA 98101  \n",
       "12/03/19 10:39      11.99          778 River St, Dallas, TX 75001  \n",
       "12/21/19 21:45      99.99  747 Chestnut St, Los Angeles, CA 90001  \n",
       "\n",
       "[186850 rows x 5 columns]"
      ]
     },
     "execution_count": 118,
     "metadata": {},
     "output_type": "execute_result"
    }
   ],
   "source": [
    "# fonction de regroupement des data set\n",
    "def data_set():\n",
    "    iter_number = range(1, 13)\n",
    "    empty_list = []\n",
    "    for data in iter_number:\n",
    "        dataframe = 'df' + str(data)\n",
    "        empty_list.append(eval(dataframe))\n",
    "    data_years = pd.concat(empty_list, axis=0, join='outer')\n",
    "    return data_years\n",
    "\n",
    "df = data_set()\n",
    "df"
   ]
  },
  {
   "cell_type": "markdown",
   "id": "da134d39",
   "metadata": {},
   "source": [
    "# Analyse de la forme et pretraitement des donnees"
   ]
  },
  {
   "cell_type": "code",
   "execution_count": 119,
   "id": "1c74a440",
   "metadata": {},
   "outputs": [
    {
     "data": {
      "text/plain": [
       "(186850, 5)"
      ]
     },
     "execution_count": 119,
     "metadata": {},
     "output_type": "execute_result"
    }
   ],
   "source": [
    "# les dimensions du data set\n",
    "df.shape"
   ]
  },
  {
   "cell_type": "code",
   "execution_count": 120,
   "id": "f5d56faa",
   "metadata": {},
   "outputs": [
    {
     "data": {
      "text/plain": [
       "Order ID            object\n",
       "Product             object\n",
       "Quantity Ordered    object\n",
       "Price Each          object\n",
       "Purchase Address    object\n",
       "dtype: object"
      ]
     },
     "execution_count": 120,
     "metadata": {},
     "output_type": "execute_result"
    }
   ],
   "source": [
    "# les types des colonnes\n",
    "df.dtypes"
   ]
  },
  {
   "cell_type": "code",
   "execution_count": 121,
   "id": "e5c8352f",
   "metadata": {},
   "outputs": [
    {
     "data": {
      "text/plain": [
       "Order ID            545\n",
       "Product             545\n",
       "Quantity Ordered    545\n",
       "Price Each          545\n",
       "Purchase Address    545\n",
       "dtype: int64"
      ]
     },
     "execution_count": 121,
     "metadata": {},
     "output_type": "execute_result"
    }
   ],
   "source": [
    "# les valeurs manquantes de chaque colonnes\n",
    "df.isna().sum()"
   ]
  },
  {
   "cell_type": "code",
   "execution_count": 122,
   "id": "3eeba368",
   "metadata": {},
   "outputs": [
    {
     "data": {
      "text/html": [
       "<div>\n",
       "<style scoped>\n",
       "    .dataframe tbody tr th:only-of-type {\n",
       "        vertical-align: middle;\n",
       "    }\n",
       "\n",
       "    .dataframe tbody tr th {\n",
       "        vertical-align: top;\n",
       "    }\n",
       "\n",
       "    .dataframe thead th {\n",
       "        text-align: right;\n",
       "    }\n",
       "</style>\n",
       "<table border=\"1\" class=\"dataframe\">\n",
       "  <thead>\n",
       "    <tr style=\"text-align: right;\">\n",
       "      <th></th>\n",
       "      <th>Order ID</th>\n",
       "      <th>Product</th>\n",
       "      <th>Quantity Ordered</th>\n",
       "      <th>Price Each</th>\n",
       "      <th>Purchase Address</th>\n",
       "    </tr>\n",
       "  </thead>\n",
       "  <tbody>\n",
       "    <tr>\n",
       "      <th>count</th>\n",
       "      <td>186305</td>\n",
       "      <td>186305</td>\n",
       "      <td>186305</td>\n",
       "      <td>186305</td>\n",
       "      <td>186305</td>\n",
       "    </tr>\n",
       "    <tr>\n",
       "      <th>unique</th>\n",
       "      <td>178438</td>\n",
       "      <td>20</td>\n",
       "      <td>10</td>\n",
       "      <td>24</td>\n",
       "      <td>140788</td>\n",
       "    </tr>\n",
       "    <tr>\n",
       "      <th>top</th>\n",
       "      <td>Order ID</td>\n",
       "      <td>USB-C Charging Cable</td>\n",
       "      <td>1</td>\n",
       "      <td>11.95</td>\n",
       "      <td>Purchase Address</td>\n",
       "    </tr>\n",
       "    <tr>\n",
       "      <th>freq</th>\n",
       "      <td>355</td>\n",
       "      <td>21903</td>\n",
       "      <td>168552</td>\n",
       "      <td>21903</td>\n",
       "      <td>355</td>\n",
       "    </tr>\n",
       "  </tbody>\n",
       "</table>\n",
       "</div>"
      ],
      "text/plain": [
       "        Order ID               Product Quantity Ordered Price Each  \\\n",
       "count     186305                186305           186305     186305   \n",
       "unique    178438                    20               10         24   \n",
       "top     Order ID  USB-C Charging Cable                1      11.95   \n",
       "freq         355                 21903           168552      21903   \n",
       "\n",
       "        Purchase Address  \n",
       "count             186305  \n",
       "unique            140788  \n",
       "top     Purchase Address  \n",
       "freq                 355  "
      ]
     },
     "execution_count": 122,
     "metadata": {},
     "output_type": "execute_result"
    }
   ],
   "source": [
    "# la desciption des colonnes\n",
    "df.describe()"
   ]
  },
  {
   "cell_type": "markdown",
   "id": "63b2b440",
   "metadata": {},
   "source": [
    "### nous allons voir le contenu de chaque colonne\n"
   ]
  },
  {
   "cell_type": "code",
   "execution_count": 123,
   "id": "95811eba",
   "metadata": {},
   "outputs": [
    {
     "data": {
      "text/plain": [
       "USB-C Charging Cable          21903\n",
       "Lightning Charging Cable      21658\n",
       "AAA Batteries (4-pack)        20641\n",
       "AA Batteries (4-pack)         20577\n",
       "Wired Headphones              18882\n",
       "Apple Airpods Headphones      15549\n",
       "Bose SoundSport Headphones    13325\n",
       "27in FHD Monitor               7507\n",
       "iPhone                         6842\n",
       "27in 4K Gaming Monitor         6230\n",
       "34in Ultrawide Monitor         6181\n",
       "Google Phone                   5525\n",
       "Flatscreen TV                  4800\n",
       "Macbook Pro Laptop             4724\n",
       "ThinkPad Laptop                4128\n",
       "20in Monitor                   4101\n",
       "Vareebadd Phone                2065\n",
       "LG Washing Machine              666\n",
       "LG Dryer                        646\n",
       "Product                         355\n",
       "Name: Product, dtype: int64"
      ]
     },
     "execution_count": 123,
     "metadata": {},
     "output_type": "execute_result"
    }
   ],
   "source": [
    "df['Product'].value_counts()"
   ]
  },
  {
   "cell_type": "code",
   "execution_count": 124,
   "id": "0fee5225",
   "metadata": {},
   "outputs": [
    {
     "data": {
      "text/plain": [
       "1                   168552\n",
       "2                    13324\n",
       "3                     2920\n",
       "4                      806\n",
       "Quantity Ordered       355\n",
       "5                      236\n",
       "6                       80\n",
       "7                       24\n",
       "8                        5\n",
       "9                        3\n",
       "Name: Quantity Ordered, dtype: int64"
      ]
     },
     "execution_count": 124,
     "metadata": {},
     "output_type": "execute_result"
    }
   ],
   "source": [
    "df['Quantity Ordered'].value_counts()"
   ]
  },
  {
   "cell_type": "code",
   "execution_count": 125,
   "id": "f8edbdc8",
   "metadata": {},
   "outputs": [
    {
     "data": {
      "text/plain": [
       "11.95         21903\n",
       "14.95         21658\n",
       "2.99          20641\n",
       "3.84          20577\n",
       "11.99         18882\n",
       "150           15450\n",
       "99.99         13325\n",
       "149.99         7507\n",
       "700            6804\n",
       "389.99         6230\n",
       "379.99         6181\n",
       "600            5490\n",
       "300            4780\n",
       "1700           4702\n",
       "999.99         4128\n",
       "109.99         4101\n",
       "400            2056\n",
       "600.0          1347\n",
       "Price Each      355\n",
       "150.0            99\n",
       "700.0            38\n",
       "1700.0           22\n",
       "300.0            20\n",
       "400.0             9\n",
       "Name: Price Each, dtype: int64"
      ]
     },
     "execution_count": 125,
     "metadata": {},
     "output_type": "execute_result"
    }
   ],
   "source": [
    "df['Price Each'].value_counts()"
   ]
  },
  {
   "cell_type": "code",
   "execution_count": 126,
   "id": "43807d6a",
   "metadata": {},
   "outputs": [
    {
     "data": {
      "text/plain": [
       "Purchase Address                              355\n",
       "193 Forest St, San Francisco, CA 94016          9\n",
       "223 Elm St, Los Angeles, CA 90001               8\n",
       "279 Sunset St, San Francisco, CA 94016          8\n",
       "292 Washington St, San Francisco, CA 94016      7\n",
       "                                             ... \n",
       "444 Maple St, Boston, MA 02215                  1\n",
       "622 Highland St, Los Angeles, CA 90001          1\n",
       "399 Madison St, Austin, TX 73301                1\n",
       "504 13th St, San Francisco, CA 94016            1\n",
       "747 Chestnut St, Los Angeles, CA 90001          1\n",
       "Name: Purchase Address, Length: 140788, dtype: int64"
      ]
     },
     "execution_count": 126,
     "metadata": {},
     "output_type": "execute_result"
    }
   ],
   "source": [
    "df['Purchase Address'].value_counts()"
   ]
  },
  {
   "cell_type": "markdown",
   "id": "9fca7e8c",
   "metadata": {},
   "source": [
    "Remarque: il y a toujours une valeur qui apparait a chaque fois qu'on regarde le contenu total des valeurs de chaque colonne, nous allons devoir les suprimes."
   ]
  },
  {
   "cell_type": "code",
   "execution_count": 127,
   "id": "e07587b2",
   "metadata": {},
   "outputs": [],
   "source": [
    "# suspression des valeurs manquantes\n",
    "df = df.dropna(axis=0)"
   ]
  },
  {
   "cell_type": "code",
   "execution_count": 128,
   "id": "cc06326a",
   "metadata": {},
   "outputs": [
    {
     "data": {
      "text/plain": [
       "Order ID            0\n",
       "Product             0\n",
       "Quantity Ordered    0\n",
       "Price Each          0\n",
       "Purchase Address    0\n",
       "dtype: int64"
      ]
     },
     "execution_count": 128,
     "metadata": {},
     "output_type": "execute_result"
    }
   ],
   "source": [
    "df.isna().sum()"
   ]
  },
  {
   "cell_type": "code",
   "execution_count": 129,
   "id": "dbb42f73",
   "metadata": {},
   "outputs": [
    {
     "name": "stderr",
     "output_type": "stream",
     "text": [
      "C:\\Users\\evil smile\\AppData\\Local\\Temp\\ipykernel_4000\\2779031250.py:2: SettingWithCopyWarning: \n",
      "A value is trying to be set on a copy of a slice from a DataFrame.\n",
      "Try using .loc[row_indexer,col_indexer] = value instead\n",
      "\n",
      "See the caveats in the documentation: https://pandas.pydata.org/pandas-docs/stable/user_guide/indexing.html#returning-a-view-versus-a-copy\n",
      "  df['Product'] = df['Product'].replace(['Product'], [np.nan])\n"
     ]
    }
   ],
   "source": [
    "# la suspression des noms de colonnes qui apparaissent parmi les valeurs des colonnes\n",
    "df['Product'] = df['Product'].replace(['Product'], [np.nan])"
   ]
  },
  {
   "cell_type": "code",
   "execution_count": 130,
   "id": "56ee0f00",
   "metadata": {},
   "outputs": [
    {
     "data": {
      "text/plain": [
       "USB-C Charging Cable          21903\n",
       "Lightning Charging Cable      21658\n",
       "AAA Batteries (4-pack)        20641\n",
       "AA Batteries (4-pack)         20577\n",
       "Wired Headphones              18882\n",
       "Apple Airpods Headphones      15549\n",
       "Bose SoundSport Headphones    13325\n",
       "27in FHD Monitor               7507\n",
       "iPhone                         6842\n",
       "27in 4K Gaming Monitor         6230\n",
       "34in Ultrawide Monitor         6181\n",
       "Google Phone                   5525\n",
       "Flatscreen TV                  4800\n",
       "Macbook Pro Laptop             4724\n",
       "ThinkPad Laptop                4128\n",
       "20in Monitor                   4101\n",
       "Vareebadd Phone                2065\n",
       "LG Washing Machine              666\n",
       "LG Dryer                        646\n",
       "Name: Product, dtype: int64"
      ]
     },
     "execution_count": 130,
     "metadata": {},
     "output_type": "execute_result"
    }
   ],
   "source": [
    "df['Product'].value_counts()"
   ]
  },
  {
   "cell_type": "code",
   "execution_count": 131,
   "id": "fc3fb035",
   "metadata": {},
   "outputs": [
    {
     "name": "stderr",
     "output_type": "stream",
     "text": [
      "C:\\Users\\evil smile\\AppData\\Local\\Temp\\ipykernel_4000\\2980230363.py:1: SettingWithCopyWarning: \n",
      "A value is trying to be set on a copy of a slice from a DataFrame.\n",
      "Try using .loc[row_indexer,col_indexer] = value instead\n",
      "\n",
      "See the caveats in the documentation: https://pandas.pydata.org/pandas-docs/stable/user_guide/indexing.html#returning-a-view-versus-a-copy\n",
      "  df['Purchase Address'] = df['Purchase Address'].replace(['Purchase Address'], [np.nan])\n",
      "C:\\Users\\evil smile\\AppData\\Local\\Temp\\ipykernel_4000\\2980230363.py:2: SettingWithCopyWarning: \n",
      "A value is trying to be set on a copy of a slice from a DataFrame.\n",
      "Try using .loc[row_indexer,col_indexer] = value instead\n",
      "\n",
      "See the caveats in the documentation: https://pandas.pydata.org/pandas-docs/stable/user_guide/indexing.html#returning-a-view-versus-a-copy\n",
      "  df['Price Each'] = df['Price Each'].replace(['Price Each'], [np.nan])\n",
      "C:\\Users\\evil smile\\AppData\\Local\\Temp\\ipykernel_4000\\2980230363.py:3: SettingWithCopyWarning: \n",
      "A value is trying to be set on a copy of a slice from a DataFrame.\n",
      "Try using .loc[row_indexer,col_indexer] = value instead\n",
      "\n",
      "See the caveats in the documentation: https://pandas.pydata.org/pandas-docs/stable/user_guide/indexing.html#returning-a-view-versus-a-copy\n",
      "  df['Quantity Ordered'] = df['Quantity Ordered'].replace(['Quantity Ordered'], [np.nan])\n"
     ]
    }
   ],
   "source": [
    "df['Purchase Address'] = df['Purchase Address'].replace(['Purchase Address'], [np.nan])\n",
    "df['Price Each'] = df['Price Each'].replace(['Price Each'], [np.nan])\n",
    "df['Quantity Ordered'] = df['Quantity Ordered'].replace(['Quantity Ordered'], [np.nan])"
   ]
  },
  {
   "cell_type": "code",
   "execution_count": 132,
   "id": "d453619c",
   "metadata": {},
   "outputs": [
    {
     "data": {
      "text/plain": [
       "Order ID              0\n",
       "Product             355\n",
       "Quantity Ordered    355\n",
       "Price Each          355\n",
       "Purchase Address    355\n",
       "dtype: int64"
      ]
     },
     "execution_count": 132,
     "metadata": {},
     "output_type": "execute_result"
    }
   ],
   "source": [
    "df.isna().sum()"
   ]
  },
  {
   "cell_type": "code",
   "execution_count": 133,
   "id": "c1ba4a97",
   "metadata": {},
   "outputs": [],
   "source": [
    "# suspression de ces valeurs manquantes\n",
    "df = df.dropna()"
   ]
  },
  {
   "cell_type": "markdown",
   "id": "5aee7eac",
   "metadata": {},
   "source": [
    "# Preparation du data set pour les differentes visualisations"
   ]
  },
  {
   "cell_type": "code",
   "execution_count": 134,
   "id": "14f20dd0",
   "metadata": {},
   "outputs": [
    {
     "data": {
      "text/plain": [
       "Order ID            object\n",
       "Product             object\n",
       "Quantity Ordered    object\n",
       "Price Each          object\n",
       "Purchase Address    object\n",
       "dtype: object"
      ]
     },
     "execution_count": 134,
     "metadata": {},
     "output_type": "execute_result"
    }
   ],
   "source": [
    "# les types des colonnes\n",
    "df.dtypes"
   ]
  },
  {
   "cell_type": "code",
   "execution_count": 135,
   "id": "5a161466",
   "metadata": {},
   "outputs": [
    {
     "data": {
      "text/plain": [
       "Order ID             object\n",
       "Product              object\n",
       "Quantity Ordered    float64\n",
       "Price Each          float64\n",
       "Purchase Address     object\n",
       "dtype: object"
      ]
     },
     "execution_count": 135,
     "metadata": {},
     "output_type": "execute_result"
    }
   ],
   "source": [
    "# changement des types de chaque colonnes\n",
    "df = df.astype({'Quantity Ordered':float, 'Price Each':float})\n",
    "df.dtypes"
   ]
  },
  {
   "cell_type": "code",
   "execution_count": 136,
   "id": "fe7664b6",
   "metadata": {},
   "outputs": [],
   "source": [
    "# creation d'une nouvelle colonne pour les totaux des prix\n",
    "df['Total Price'] = df['Price Each']*df['Quantity Ordered']"
   ]
  },
  {
   "cell_type": "code",
   "execution_count": 137,
   "id": "4fd937f7",
   "metadata": {},
   "outputs": [
    {
     "data": {
      "text/html": [
       "<div>\n",
       "<style scoped>\n",
       "    .dataframe tbody tr th:only-of-type {\n",
       "        vertical-align: middle;\n",
       "    }\n",
       "\n",
       "    .dataframe tbody tr th {\n",
       "        vertical-align: top;\n",
       "    }\n",
       "\n",
       "    .dataframe thead th {\n",
       "        text-align: right;\n",
       "    }\n",
       "</style>\n",
       "<table border=\"1\" class=\"dataframe\">\n",
       "  <thead>\n",
       "    <tr style=\"text-align: right;\">\n",
       "      <th></th>\n",
       "      <th>Order ID</th>\n",
       "      <th>Product</th>\n",
       "      <th>Quantity Ordered</th>\n",
       "      <th>Price Each</th>\n",
       "      <th>Purchase Address</th>\n",
       "      <th>Total Price</th>\n",
       "    </tr>\n",
       "    <tr>\n",
       "      <th>Order Date</th>\n",
       "      <th></th>\n",
       "      <th></th>\n",
       "      <th></th>\n",
       "      <th></th>\n",
       "      <th></th>\n",
       "      <th></th>\n",
       "    </tr>\n",
       "  </thead>\n",
       "  <tbody>\n",
       "    <tr>\n",
       "      <th>01/22/19 21:25</th>\n",
       "      <td>141234</td>\n",
       "      <td>iPhone</td>\n",
       "      <td>1.0</td>\n",
       "      <td>700.00</td>\n",
       "      <td>944 Walnut St, Boston, MA 02215</td>\n",
       "      <td>700.00</td>\n",
       "    </tr>\n",
       "    <tr>\n",
       "      <th>01/28/19 14:15</th>\n",
       "      <td>141235</td>\n",
       "      <td>Lightning Charging Cable</td>\n",
       "      <td>1.0</td>\n",
       "      <td>14.95</td>\n",
       "      <td>185 Maple St, Portland, OR 97035</td>\n",
       "      <td>14.95</td>\n",
       "    </tr>\n",
       "    <tr>\n",
       "      <th>01/17/19 13:33</th>\n",
       "      <td>141236</td>\n",
       "      <td>Wired Headphones</td>\n",
       "      <td>2.0</td>\n",
       "      <td>11.99</td>\n",
       "      <td>538 Adams St, San Francisco, CA 94016</td>\n",
       "      <td>23.98</td>\n",
       "    </tr>\n",
       "    <tr>\n",
       "      <th>01/05/19 20:33</th>\n",
       "      <td>141237</td>\n",
       "      <td>27in FHD Monitor</td>\n",
       "      <td>1.0</td>\n",
       "      <td>149.99</td>\n",
       "      <td>738 10th St, Los Angeles, CA 90001</td>\n",
       "      <td>149.99</td>\n",
       "    </tr>\n",
       "    <tr>\n",
       "      <th>01/25/19 11:59</th>\n",
       "      <td>141238</td>\n",
       "      <td>Wired Headphones</td>\n",
       "      <td>1.0</td>\n",
       "      <td>11.99</td>\n",
       "      <td>387 10th St, Austin, TX 73301</td>\n",
       "      <td>11.99</td>\n",
       "    </tr>\n",
       "    <tr>\n",
       "      <th>...</th>\n",
       "      <td>...</td>\n",
       "      <td>...</td>\n",
       "      <td>...</td>\n",
       "      <td>...</td>\n",
       "      <td>...</td>\n",
       "      <td>...</td>\n",
       "    </tr>\n",
       "    <tr>\n",
       "      <th>12/11/19 20:58</th>\n",
       "      <td>319666</td>\n",
       "      <td>Lightning Charging Cable</td>\n",
       "      <td>1.0</td>\n",
       "      <td>14.95</td>\n",
       "      <td>14 Madison St, San Francisco, CA 94016</td>\n",
       "      <td>14.95</td>\n",
       "    </tr>\n",
       "    <tr>\n",
       "      <th>12/01/19 12:01</th>\n",
       "      <td>319667</td>\n",
       "      <td>AA Batteries (4-pack)</td>\n",
       "      <td>2.0</td>\n",
       "      <td>3.84</td>\n",
       "      <td>549 Willow St, Los Angeles, CA 90001</td>\n",
       "      <td>7.68</td>\n",
       "    </tr>\n",
       "    <tr>\n",
       "      <th>12/09/19 06:43</th>\n",
       "      <td>319668</td>\n",
       "      <td>Vareebadd Phone</td>\n",
       "      <td>1.0</td>\n",
       "      <td>400.00</td>\n",
       "      <td>273 Wilson St, Seattle, WA 98101</td>\n",
       "      <td>400.00</td>\n",
       "    </tr>\n",
       "    <tr>\n",
       "      <th>12/03/19 10:39</th>\n",
       "      <td>319669</td>\n",
       "      <td>Wired Headphones</td>\n",
       "      <td>1.0</td>\n",
       "      <td>11.99</td>\n",
       "      <td>778 River St, Dallas, TX 75001</td>\n",
       "      <td>11.99</td>\n",
       "    </tr>\n",
       "    <tr>\n",
       "      <th>12/21/19 21:45</th>\n",
       "      <td>319670</td>\n",
       "      <td>Bose SoundSport Headphones</td>\n",
       "      <td>1.0</td>\n",
       "      <td>99.99</td>\n",
       "      <td>747 Chestnut St, Los Angeles, CA 90001</td>\n",
       "      <td>99.99</td>\n",
       "    </tr>\n",
       "  </tbody>\n",
       "</table>\n",
       "<p>185950 rows × 6 columns</p>\n",
       "</div>"
      ],
      "text/plain": [
       "               Order ID                     Product  Quantity Ordered  \\\n",
       "Order Date                                                              \n",
       "01/22/19 21:25   141234                      iPhone               1.0   \n",
       "01/28/19 14:15   141235    Lightning Charging Cable               1.0   \n",
       "01/17/19 13:33   141236            Wired Headphones               2.0   \n",
       "01/05/19 20:33   141237            27in FHD Monitor               1.0   \n",
       "01/25/19 11:59   141238            Wired Headphones               1.0   \n",
       "...                 ...                         ...               ...   \n",
       "12/11/19 20:58   319666    Lightning Charging Cable               1.0   \n",
       "12/01/19 12:01   319667       AA Batteries (4-pack)               2.0   \n",
       "12/09/19 06:43   319668             Vareebadd Phone               1.0   \n",
       "12/03/19 10:39   319669            Wired Headphones               1.0   \n",
       "12/21/19 21:45   319670  Bose SoundSport Headphones               1.0   \n",
       "\n",
       "                Price Each                        Purchase Address  \\\n",
       "Order Date                                                           \n",
       "01/22/19 21:25      700.00         944 Walnut St, Boston, MA 02215   \n",
       "01/28/19 14:15       14.95        185 Maple St, Portland, OR 97035   \n",
       "01/17/19 13:33       11.99   538 Adams St, San Francisco, CA 94016   \n",
       "01/05/19 20:33      149.99      738 10th St, Los Angeles, CA 90001   \n",
       "01/25/19 11:59       11.99           387 10th St, Austin, TX 73301   \n",
       "...                    ...                                     ...   \n",
       "12/11/19 20:58       14.95  14 Madison St, San Francisco, CA 94016   \n",
       "12/01/19 12:01        3.84    549 Willow St, Los Angeles, CA 90001   \n",
       "12/09/19 06:43      400.00        273 Wilson St, Seattle, WA 98101   \n",
       "12/03/19 10:39       11.99          778 River St, Dallas, TX 75001   \n",
       "12/21/19 21:45       99.99  747 Chestnut St, Los Angeles, CA 90001   \n",
       "\n",
       "                Total Price  \n",
       "Order Date                   \n",
       "01/22/19 21:25       700.00  \n",
       "01/28/19 14:15        14.95  \n",
       "01/17/19 13:33        23.98  \n",
       "01/05/19 20:33       149.99  \n",
       "01/25/19 11:59        11.99  \n",
       "...                     ...  \n",
       "12/11/19 20:58        14.95  \n",
       "12/01/19 12:01         7.68  \n",
       "12/09/19 06:43       400.00  \n",
       "12/03/19 10:39        11.99  \n",
       "12/21/19 21:45        99.99  \n",
       "\n",
       "[185950 rows x 6 columns]"
      ]
     },
     "execution_count": 137,
     "metadata": {},
     "output_type": "execute_result"
    }
   ],
   "source": [
    "df"
   ]
  },
  {
   "cell_type": "code",
   "execution_count": 138,
   "id": "8cac3af6",
   "metadata": {},
   "outputs": [],
   "source": [
    "# suspression de la colonne Order ID\n",
    "df = df.drop('Order ID', axis=1)"
   ]
  },
  {
   "cell_type": "code",
   "execution_count": 140,
   "id": "e4e22398",
   "metadata": {},
   "outputs": [
    {
     "data": {
      "text/html": [
       "<div>\n",
       "<style scoped>\n",
       "    .dataframe tbody tr th:only-of-type {\n",
       "        vertical-align: middle;\n",
       "    }\n",
       "\n",
       "    .dataframe tbody tr th {\n",
       "        vertical-align: top;\n",
       "    }\n",
       "\n",
       "    .dataframe thead th {\n",
       "        text-align: right;\n",
       "    }\n",
       "</style>\n",
       "<table border=\"1\" class=\"dataframe\">\n",
       "  <thead>\n",
       "    <tr style=\"text-align: right;\">\n",
       "      <th></th>\n",
       "      <th>Product</th>\n",
       "      <th>Quantity Ordered</th>\n",
       "      <th>Price Each</th>\n",
       "      <th>Purchase Address</th>\n",
       "      <th>Total Price</th>\n",
       "    </tr>\n",
       "    <tr>\n",
       "      <th>Order Date</th>\n",
       "      <th></th>\n",
       "      <th></th>\n",
       "      <th></th>\n",
       "      <th></th>\n",
       "      <th></th>\n",
       "    </tr>\n",
       "  </thead>\n",
       "  <tbody>\n",
       "    <tr>\n",
       "      <th>01/22/19 21:25</th>\n",
       "      <td>iPhone</td>\n",
       "      <td>1.0</td>\n",
       "      <td>700.00</td>\n",
       "      <td>944 Walnut St, Boston, MA 02215</td>\n",
       "      <td>700.00</td>\n",
       "    </tr>\n",
       "    <tr>\n",
       "      <th>01/28/19 14:15</th>\n",
       "      <td>Lightning Charging Cable</td>\n",
       "      <td>1.0</td>\n",
       "      <td>14.95</td>\n",
       "      <td>185 Maple St, Portland, OR 97035</td>\n",
       "      <td>14.95</td>\n",
       "    </tr>\n",
       "    <tr>\n",
       "      <th>01/17/19 13:33</th>\n",
       "      <td>Wired Headphones</td>\n",
       "      <td>2.0</td>\n",
       "      <td>11.99</td>\n",
       "      <td>538 Adams St, San Francisco, CA 94016</td>\n",
       "      <td>23.98</td>\n",
       "    </tr>\n",
       "  </tbody>\n",
       "</table>\n",
       "</div>"
      ],
      "text/plain": [
       "                                 Product  Quantity Ordered  Price Each  \\\n",
       "Order Date                                                               \n",
       "01/22/19 21:25                    iPhone               1.0      700.00   \n",
       "01/28/19 14:15  Lightning Charging Cable               1.0       14.95   \n",
       "01/17/19 13:33          Wired Headphones               2.0       11.99   \n",
       "\n",
       "                                     Purchase Address  Total Price  \n",
       "Order Date                                                          \n",
       "01/22/19 21:25        944 Walnut St, Boston, MA 02215       700.00  \n",
       "01/28/19 14:15       185 Maple St, Portland, OR 97035        14.95  \n",
       "01/17/19 13:33  538 Adams St, San Francisco, CA 94016        23.98  "
      ]
     },
     "execution_count": 140,
     "metadata": {},
     "output_type": "execute_result"
    }
   ],
   "source": [
    "df.head(3)"
   ]
  },
  {
   "cell_type": "code",
   "execution_count": 141,
   "id": "31ec5a34",
   "metadata": {},
   "outputs": [],
   "source": [
    "# creation d'une colonne contennant seulement les villes \n",
    "df['Town'] = df['Purchase Address'].apply(lambda x: x.split(',')[1])"
   ]
  },
  {
   "cell_type": "code",
   "execution_count": 142,
   "id": "6942b7b6",
   "metadata": {},
   "outputs": [
    {
     "data": {
      "text/html": [
       "<div>\n",
       "<style scoped>\n",
       "    .dataframe tbody tr th:only-of-type {\n",
       "        vertical-align: middle;\n",
       "    }\n",
       "\n",
       "    .dataframe tbody tr th {\n",
       "        vertical-align: top;\n",
       "    }\n",
       "\n",
       "    .dataframe thead th {\n",
       "        text-align: right;\n",
       "    }\n",
       "</style>\n",
       "<table border=\"1\" class=\"dataframe\">\n",
       "  <thead>\n",
       "    <tr style=\"text-align: right;\">\n",
       "      <th></th>\n",
       "      <th>Product</th>\n",
       "      <th>Quantity Ordered</th>\n",
       "      <th>Price Each</th>\n",
       "      <th>Purchase Address</th>\n",
       "      <th>Total Price</th>\n",
       "      <th>Town</th>\n",
       "    </tr>\n",
       "    <tr>\n",
       "      <th>Order Date</th>\n",
       "      <th></th>\n",
       "      <th></th>\n",
       "      <th></th>\n",
       "      <th></th>\n",
       "      <th></th>\n",
       "      <th></th>\n",
       "    </tr>\n",
       "  </thead>\n",
       "  <tbody>\n",
       "    <tr>\n",
       "      <th>01/22/19 21:25</th>\n",
       "      <td>iPhone</td>\n",
       "      <td>1.0</td>\n",
       "      <td>700.00</td>\n",
       "      <td>944 Walnut St, Boston, MA 02215</td>\n",
       "      <td>700.00</td>\n",
       "      <td>Boston</td>\n",
       "    </tr>\n",
       "    <tr>\n",
       "      <th>01/28/19 14:15</th>\n",
       "      <td>Lightning Charging Cable</td>\n",
       "      <td>1.0</td>\n",
       "      <td>14.95</td>\n",
       "      <td>185 Maple St, Portland, OR 97035</td>\n",
       "      <td>14.95</td>\n",
       "      <td>Portland</td>\n",
       "    </tr>\n",
       "    <tr>\n",
       "      <th>01/17/19 13:33</th>\n",
       "      <td>Wired Headphones</td>\n",
       "      <td>2.0</td>\n",
       "      <td>11.99</td>\n",
       "      <td>538 Adams St, San Francisco, CA 94016</td>\n",
       "      <td>23.98</td>\n",
       "      <td>San Francisco</td>\n",
       "    </tr>\n",
       "    <tr>\n",
       "      <th>01/05/19 20:33</th>\n",
       "      <td>27in FHD Monitor</td>\n",
       "      <td>1.0</td>\n",
       "      <td>149.99</td>\n",
       "      <td>738 10th St, Los Angeles, CA 90001</td>\n",
       "      <td>149.99</td>\n",
       "      <td>Los Angeles</td>\n",
       "    </tr>\n",
       "    <tr>\n",
       "      <th>01/25/19 11:59</th>\n",
       "      <td>Wired Headphones</td>\n",
       "      <td>1.0</td>\n",
       "      <td>11.99</td>\n",
       "      <td>387 10th St, Austin, TX 73301</td>\n",
       "      <td>11.99</td>\n",
       "      <td>Austin</td>\n",
       "    </tr>\n",
       "    <tr>\n",
       "      <th>...</th>\n",
       "      <td>...</td>\n",
       "      <td>...</td>\n",
       "      <td>...</td>\n",
       "      <td>...</td>\n",
       "      <td>...</td>\n",
       "      <td>...</td>\n",
       "    </tr>\n",
       "    <tr>\n",
       "      <th>12/11/19 20:58</th>\n",
       "      <td>Lightning Charging Cable</td>\n",
       "      <td>1.0</td>\n",
       "      <td>14.95</td>\n",
       "      <td>14 Madison St, San Francisco, CA 94016</td>\n",
       "      <td>14.95</td>\n",
       "      <td>San Francisco</td>\n",
       "    </tr>\n",
       "    <tr>\n",
       "      <th>12/01/19 12:01</th>\n",
       "      <td>AA Batteries (4-pack)</td>\n",
       "      <td>2.0</td>\n",
       "      <td>3.84</td>\n",
       "      <td>549 Willow St, Los Angeles, CA 90001</td>\n",
       "      <td>7.68</td>\n",
       "      <td>Los Angeles</td>\n",
       "    </tr>\n",
       "    <tr>\n",
       "      <th>12/09/19 06:43</th>\n",
       "      <td>Vareebadd Phone</td>\n",
       "      <td>1.0</td>\n",
       "      <td>400.00</td>\n",
       "      <td>273 Wilson St, Seattle, WA 98101</td>\n",
       "      <td>400.00</td>\n",
       "      <td>Seattle</td>\n",
       "    </tr>\n",
       "    <tr>\n",
       "      <th>12/03/19 10:39</th>\n",
       "      <td>Wired Headphones</td>\n",
       "      <td>1.0</td>\n",
       "      <td>11.99</td>\n",
       "      <td>778 River St, Dallas, TX 75001</td>\n",
       "      <td>11.99</td>\n",
       "      <td>Dallas</td>\n",
       "    </tr>\n",
       "    <tr>\n",
       "      <th>12/21/19 21:45</th>\n",
       "      <td>Bose SoundSport Headphones</td>\n",
       "      <td>1.0</td>\n",
       "      <td>99.99</td>\n",
       "      <td>747 Chestnut St, Los Angeles, CA 90001</td>\n",
       "      <td>99.99</td>\n",
       "      <td>Los Angeles</td>\n",
       "    </tr>\n",
       "  </tbody>\n",
       "</table>\n",
       "<p>185950 rows × 6 columns</p>\n",
       "</div>"
      ],
      "text/plain": [
       "                                   Product  Quantity Ordered  Price Each  \\\n",
       "Order Date                                                                 \n",
       "01/22/19 21:25                      iPhone               1.0      700.00   \n",
       "01/28/19 14:15    Lightning Charging Cable               1.0       14.95   \n",
       "01/17/19 13:33            Wired Headphones               2.0       11.99   \n",
       "01/05/19 20:33            27in FHD Monitor               1.0      149.99   \n",
       "01/25/19 11:59            Wired Headphones               1.0       11.99   \n",
       "...                                    ...               ...         ...   \n",
       "12/11/19 20:58    Lightning Charging Cable               1.0       14.95   \n",
       "12/01/19 12:01       AA Batteries (4-pack)               2.0        3.84   \n",
       "12/09/19 06:43             Vareebadd Phone               1.0      400.00   \n",
       "12/03/19 10:39            Wired Headphones               1.0       11.99   \n",
       "12/21/19 21:45  Bose SoundSport Headphones               1.0       99.99   \n",
       "\n",
       "                                      Purchase Address  Total Price  \\\n",
       "Order Date                                                            \n",
       "01/22/19 21:25         944 Walnut St, Boston, MA 02215       700.00   \n",
       "01/28/19 14:15        185 Maple St, Portland, OR 97035        14.95   \n",
       "01/17/19 13:33   538 Adams St, San Francisco, CA 94016        23.98   \n",
       "01/05/19 20:33      738 10th St, Los Angeles, CA 90001       149.99   \n",
       "01/25/19 11:59           387 10th St, Austin, TX 73301        11.99   \n",
       "...                                                ...          ...   \n",
       "12/11/19 20:58  14 Madison St, San Francisco, CA 94016        14.95   \n",
       "12/01/19 12:01    549 Willow St, Los Angeles, CA 90001         7.68   \n",
       "12/09/19 06:43        273 Wilson St, Seattle, WA 98101       400.00   \n",
       "12/03/19 10:39          778 River St, Dallas, TX 75001        11.99   \n",
       "12/21/19 21:45  747 Chestnut St, Los Angeles, CA 90001        99.99   \n",
       "\n",
       "                          Town  \n",
       "Order Date                      \n",
       "01/22/19 21:25          Boston  \n",
       "01/28/19 14:15        Portland  \n",
       "01/17/19 13:33   San Francisco  \n",
       "01/05/19 20:33     Los Angeles  \n",
       "01/25/19 11:59          Austin  \n",
       "...                        ...  \n",
       "12/11/19 20:58   San Francisco  \n",
       "12/01/19 12:01     Los Angeles  \n",
       "12/09/19 06:43         Seattle  \n",
       "12/03/19 10:39          Dallas  \n",
       "12/21/19 21:45     Los Angeles  \n",
       "\n",
       "[185950 rows x 6 columns]"
      ]
     },
     "execution_count": 142,
     "metadata": {},
     "output_type": "execute_result"
    }
   ],
   "source": [
    "df"
   ]
  },
  {
   "cell_type": "code",
   "execution_count": 143,
   "id": "cdf8b5a7",
   "metadata": {},
   "outputs": [
    {
     "data": {
      "text/plain": [
       " San Francisco    44732\n",
       " Los Angeles      29605\n",
       " New York City    24876\n",
       " Boston           19934\n",
       " Atlanta          14881\n",
       " Dallas           14820\n",
       " Seattle          14732\n",
       " Portland         12465\n",
       " Austin            9905\n",
       "Name: Town, dtype: int64"
      ]
     },
     "execution_count": 143,
     "metadata": {},
     "output_type": "execute_result"
    }
   ],
   "source": [
    "df.Town.value_counts()"
   ]
  },
  {
   "cell_type": "code",
   "execution_count": null,
   "id": "c977d23a",
   "metadata": {},
   "outputs": [],
   "source": [
    "fd"
   ]
  }
 ],
 "metadata": {
  "kernelspec": {
   "display_name": "Python 3 (ipykernel)",
   "language": "python",
   "name": "python3"
  },
  "language_info": {
   "codemirror_mode": {
    "name": "ipython",
    "version": 3
   },
   "file_extension": ".py",
   "mimetype": "text/x-python",
   "name": "python",
   "nbconvert_exporter": "python",
   "pygments_lexer": "ipython3",
   "version": "3.9.13"
  },
  "nbTranslate": {
   "displayLangs": [
    "*"
   ],
   "hotkey": "alt-t",
   "langInMainMenu": true,
   "sourceLang": "en",
   "targetLang": "fr",
   "useGoogleTranslate": true
  },
  "varInspector": {
   "cols": {
    "lenName": 16,
    "lenType": 16,
    "lenVar": 40
   },
   "kernels_config": {
    "python": {
     "delete_cmd_postfix": "",
     "delete_cmd_prefix": "del ",
     "library": "var_list.py",
     "varRefreshCmd": "print(var_dic_list())"
    },
    "r": {
     "delete_cmd_postfix": ") ",
     "delete_cmd_prefix": "rm(",
     "library": "var_list.r",
     "varRefreshCmd": "cat(var_dic_list()) "
    }
   },
   "types_to_exclude": [
    "module",
    "function",
    "builtin_function_or_method",
    "instance",
    "_Feature"
   ],
   "window_display": false
  }
 },
 "nbformat": 4,
 "nbformat_minor": 5
}
