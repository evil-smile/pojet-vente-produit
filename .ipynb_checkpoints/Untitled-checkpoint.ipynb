{
 "cells": [
  {
   "cell_type": "markdown",
   "id": "c7b07c98",
   "metadata": {},
   "source": [
    "# ANALYSE DES DONNEES DE VENTES DU MOIS DE JANVIER"
   ]
  },
  {
   "cell_type": "raw",
   "id": "b74fbeb0",
   "metadata": {},
   "source": [
    "Vous trouverez les informations par rapport a ce jeu de donnees dans le fichier readme.md"
   ]
  },
  {
   "cell_type": "code",
   "execution_count": 1,
   "id": "ad8eb61c",
   "metadata": {},
   "outputs": [],
   "source": [
    "# importatnion des bibliotheques\n",
    "import pandas as pd \n",
    "import numpy as np\n",
    "import seaborn as sns\n",
    "import plotly.express as px\n",
    "import matplotlib.pyplot as plt"
   ]
  },
  {
   "cell_type": "code",
   "execution_count": 26,
   "id": "f76fcc46",
   "metadata": {},
   "outputs": [],
   "source": [
    "# importation des donnees \n",
    "df1 = pd.read_csv('../data/Sales_January_2019.csv', index_col='Order Date', \n",
    "                 parse_dates=True)\n",
    "df2 = pd.read_csv('../data/Sales_February_2019.csv', index_col='Order Date', \n",
    "                 parse_dates=True)\n",
    "df3 = pd.read_csv('../data/Sales_March_2019.csv', index_col='Order Date', \n",
    "                 parse_dates=True)\n",
    "df4 = pd.read_csv('../data/Sales_April_2019.csv', index_col='Order Date', \n",
    "                 parse_dates=True)\n",
    "df5 = pd.read_csv('../data/Sales_May_2019.csv', index_col='Order Date', \n",
    "                 parse_dates=True)\n",
    "df6 = pd.read_csv('../data/Sales_June_2019.csv', index_col='Order Date', \n",
    "                 parse_dates=True)\n",
    "df7 = pd.read_csv('../data/Sales_July_2019.csv', index_col='Order Date', \n",
    "                 parse_dates=True)\n",
    "df8 = pd.read_csv('../data/Sales_August_2019.csv', index_col='Order Date', \n",
    "                 parse_dates=True)\n",
    "df9 = pd.read_csv('../data/Sales_September_2019.csv', index_col='Order Date', \n",
    "                 parse_dates=True)\n",
    "df10 = pd.read_csv('../data/Sales_October_2019.csv', index_col='Order Date', \n",
    "                 parse_dates=True)\n",
    "df11 = pd.read_csv('../data/Sales_November_2019.csv', index_col='Order Date', \n",
    "                 parse_dates=True)\n",
    "df12 = pd.read_csv('../data/Sales_December_2019.csv', index_col='Order Date', \n",
    "                 parse_dates=True)"
   ]
  },
  {
   "cell_type": "code",
   "execution_count": 27,
   "id": "2dedce0c",
   "metadata": {},
   "outputs": [
    {
     "data": {
      "text/html": [
       "<div>\n",
       "<style scoped>\n",
       "    .dataframe tbody tr th:only-of-type {\n",
       "        vertical-align: middle;\n",
       "    }\n",
       "\n",
       "    .dataframe tbody tr th {\n",
       "        vertical-align: top;\n",
       "    }\n",
       "\n",
       "    .dataframe thead th {\n",
       "        text-align: right;\n",
       "    }\n",
       "</style>\n",
       "<table border=\"1\" class=\"dataframe\">\n",
       "  <thead>\n",
       "    <tr style=\"text-align: right;\">\n",
       "      <th></th>\n",
       "      <th>Order ID</th>\n",
       "      <th>Product</th>\n",
       "      <th>Quantity Ordered</th>\n",
       "      <th>Price Each</th>\n",
       "      <th>Purchase Address</th>\n",
       "    </tr>\n",
       "    <tr>\n",
       "      <th>Order Date</th>\n",
       "      <th></th>\n",
       "      <th></th>\n",
       "      <th></th>\n",
       "      <th></th>\n",
       "      <th></th>\n",
       "    </tr>\n",
       "  </thead>\n",
       "  <tbody>\n",
       "    <tr>\n",
       "      <th>12/30/19 00:01</th>\n",
       "      <td>295665</td>\n",
       "      <td>Macbook Pro Laptop</td>\n",
       "      <td>1</td>\n",
       "      <td>1700</td>\n",
       "      <td>136 Church St, New York City, NY 10001</td>\n",
       "    </tr>\n",
       "    <tr>\n",
       "      <th>12/29/19 07:03</th>\n",
       "      <td>295666</td>\n",
       "      <td>LG Washing Machine</td>\n",
       "      <td>1</td>\n",
       "      <td>600.0</td>\n",
       "      <td>562 2nd St, New York City, NY 10001</td>\n",
       "    </tr>\n",
       "    <tr>\n",
       "      <th>12/12/19 18:21</th>\n",
       "      <td>295667</td>\n",
       "      <td>USB-C Charging Cable</td>\n",
       "      <td>1</td>\n",
       "      <td>11.95</td>\n",
       "      <td>277 Main St, New York City, NY 10001</td>\n",
       "    </tr>\n",
       "    <tr>\n",
       "      <th>12/22/19 15:13</th>\n",
       "      <td>295668</td>\n",
       "      <td>27in FHD Monitor</td>\n",
       "      <td>1</td>\n",
       "      <td>149.99</td>\n",
       "      <td>410 6th St, San Francisco, CA 94016</td>\n",
       "    </tr>\n",
       "    <tr>\n",
       "      <th>12/18/19 12:38</th>\n",
       "      <td>295669</td>\n",
       "      <td>USB-C Charging Cable</td>\n",
       "      <td>1</td>\n",
       "      <td>11.95</td>\n",
       "      <td>43 Hill St, Atlanta, GA 30301</td>\n",
       "    </tr>\n",
       "    <tr>\n",
       "      <th>...</th>\n",
       "      <td>...</td>\n",
       "      <td>...</td>\n",
       "      <td>...</td>\n",
       "      <td>...</td>\n",
       "      <td>...</td>\n",
       "    </tr>\n",
       "    <tr>\n",
       "      <th>12/11/19 20:58</th>\n",
       "      <td>319666</td>\n",
       "      <td>Lightning Charging Cable</td>\n",
       "      <td>1</td>\n",
       "      <td>14.95</td>\n",
       "      <td>14 Madison St, San Francisco, CA 94016</td>\n",
       "    </tr>\n",
       "    <tr>\n",
       "      <th>12/01/19 12:01</th>\n",
       "      <td>319667</td>\n",
       "      <td>AA Batteries (4-pack)</td>\n",
       "      <td>2</td>\n",
       "      <td>3.84</td>\n",
       "      <td>549 Willow St, Los Angeles, CA 90001</td>\n",
       "    </tr>\n",
       "    <tr>\n",
       "      <th>12/09/19 06:43</th>\n",
       "      <td>319668</td>\n",
       "      <td>Vareebadd Phone</td>\n",
       "      <td>1</td>\n",
       "      <td>400</td>\n",
       "      <td>273 Wilson St, Seattle, WA 98101</td>\n",
       "    </tr>\n",
       "    <tr>\n",
       "      <th>12/03/19 10:39</th>\n",
       "      <td>319669</td>\n",
       "      <td>Wired Headphones</td>\n",
       "      <td>1</td>\n",
       "      <td>11.99</td>\n",
       "      <td>778 River St, Dallas, TX 75001</td>\n",
       "    </tr>\n",
       "    <tr>\n",
       "      <th>12/21/19 21:45</th>\n",
       "      <td>319670</td>\n",
       "      <td>Bose SoundSport Headphones</td>\n",
       "      <td>1</td>\n",
       "      <td>99.99</td>\n",
       "      <td>747 Chestnut St, Los Angeles, CA 90001</td>\n",
       "    </tr>\n",
       "  </tbody>\n",
       "</table>\n",
       "<p>301404 rows × 5 columns</p>\n",
       "</div>"
      ],
      "text/plain": [
       "               Order ID                     Product Quantity Ordered  \\\n",
       "Order Date                                                             \n",
       "12/30/19 00:01   295665          Macbook Pro Laptop                1   \n",
       "12/29/19 07:03   295666          LG Washing Machine                1   \n",
       "12/12/19 18:21   295667        USB-C Charging Cable                1   \n",
       "12/22/19 15:13   295668            27in FHD Monitor                1   \n",
       "12/18/19 12:38   295669        USB-C Charging Cable                1   \n",
       "...                 ...                         ...              ...   \n",
       "12/11/19 20:58   319666    Lightning Charging Cable                1   \n",
       "12/01/19 12:01   319667       AA Batteries (4-pack)                2   \n",
       "12/09/19 06:43   319668             Vareebadd Phone                1   \n",
       "12/03/19 10:39   319669            Wired Headphones                1   \n",
       "12/21/19 21:45   319670  Bose SoundSport Headphones                1   \n",
       "\n",
       "               Price Each                        Purchase Address  \n",
       "Order Date                                                         \n",
       "12/30/19 00:01       1700  136 Church St, New York City, NY 10001  \n",
       "12/29/19 07:03      600.0     562 2nd St, New York City, NY 10001  \n",
       "12/12/19 18:21      11.95    277 Main St, New York City, NY 10001  \n",
       "12/22/19 15:13     149.99     410 6th St, San Francisco, CA 94016  \n",
       "12/18/19 12:38      11.95           43 Hill St, Atlanta, GA 30301  \n",
       "...                   ...                                     ...  \n",
       "12/11/19 20:58      14.95  14 Madison St, San Francisco, CA 94016  \n",
       "12/01/19 12:01       3.84    549 Willow St, Los Angeles, CA 90001  \n",
       "12/09/19 06:43        400        273 Wilson St, Seattle, WA 98101  \n",
       "12/03/19 10:39      11.99          778 River St, Dallas, TX 75001  \n",
       "12/21/19 21:45      99.99  747 Chestnut St, Los Angeles, CA 90001  \n",
       "\n",
       "[301404 rows x 5 columns]"
      ]
     },
     "execution_count": 27,
     "metadata": {},
     "output_type": "execute_result"
    }
   ],
   "source": [
    "# fonction de regroupement des data set\n",
    "def data_set():\n",
    "    iter_number = range(1, 13)\n",
    "    empty_list = []\n",
    "    for data in iter_number:\n",
    "        dataframe = 'df' + str(i)\n",
    "        empty_list.append(eval(dataframe))\n",
    "    data_years = pd.concat(empty_list, axis=0, join='outer')\n",
    "    return data_years\n",
    "\n",
    "df = data_set()\n",
    "df"
   ]
  },
  {
   "cell_type": "markdown",
   "id": "da134d39",
   "metadata": {},
   "source": [
    "# Analyse de la forme et pretraitement des donnees"
   ]
  },
  {
   "cell_type": "code",
   "execution_count": 28,
   "id": "fc34f5d0",
   "metadata": {},
   "outputs": [
    {
     "data": {
      "text/plain": [
       "(301404, 5)"
      ]
     },
     "execution_count": 28,
     "metadata": {},
     "output_type": "execute_result"
    }
   ],
   "source": [
    "# les dimensions du data set\n",
    "df.shape"
   ]
  },
  {
   "cell_type": "code",
   "execution_count": 29,
   "id": "263c6187",
   "metadata": {},
   "outputs": [
    {
     "data": {
      "text/plain": [
       "Order ID            object\n",
       "Product             object\n",
       "Quantity Ordered    object\n",
       "Price Each          object\n",
       "Purchase Address    object\n",
       "dtype: object"
      ]
     },
     "execution_count": 29,
     "metadata": {},
     "output_type": "execute_result"
    }
   ],
   "source": [
    "# les types des colonnes\n",
    "df.dtypes"
   ]
  },
  {
   "cell_type": "code",
   "execution_count": 30,
   "id": "106811c5",
   "metadata": {},
   "outputs": [
    {
     "data": {
      "text/plain": [
       "Order ID            960\n",
       "Product             960\n",
       "Quantity Ordered    960\n",
       "Price Each          960\n",
       "Purchase Address    960\n",
       "dtype: int64"
      ]
     },
     "execution_count": 30,
     "metadata": {},
     "output_type": "execute_result"
    }
   ],
   "source": [
    "# les valeurs manquantes de chaque colonnes\n",
    "df.isna().sum()"
   ]
  },
  {
   "cell_type": "code",
   "execution_count": 31,
   "id": "750d59ec",
   "metadata": {},
   "outputs": [
    {
     "data": {
      "text/html": [
       "<div>\n",
       "<style scoped>\n",
       "    .dataframe tbody tr th:only-of-type {\n",
       "        vertical-align: middle;\n",
       "    }\n",
       "\n",
       "    .dataframe tbody tr th {\n",
       "        vertical-align: top;\n",
       "    }\n",
       "\n",
       "    .dataframe thead th {\n",
       "        text-align: right;\n",
       "    }\n",
       "</style>\n",
       "<table border=\"1\" class=\"dataframe\">\n",
       "  <thead>\n",
       "    <tr style=\"text-align: right;\">\n",
       "      <th></th>\n",
       "      <th>Order ID</th>\n",
       "      <th>Product</th>\n",
       "      <th>Quantity Ordered</th>\n",
       "      <th>Price Each</th>\n",
       "      <th>Purchase Address</th>\n",
       "    </tr>\n",
       "  </thead>\n",
       "  <tbody>\n",
       "    <tr>\n",
       "      <th>count</th>\n",
       "      <td>300444</td>\n",
       "      <td>300444</td>\n",
       "      <td>300444</td>\n",
       "      <td>300444</td>\n",
       "      <td>300444</td>\n",
       "    </tr>\n",
       "    <tr>\n",
       "      <th>unique</th>\n",
       "      <td>24007</td>\n",
       "      <td>20</td>\n",
       "      <td>8</td>\n",
       "      <td>19</td>\n",
       "      <td>23215</td>\n",
       "    </tr>\n",
       "    <tr>\n",
       "      <th>top</th>\n",
       "      <td>Order ID</td>\n",
       "      <td>USB-C Charging Cable</td>\n",
       "      <td>1</td>\n",
       "      <td>11.95</td>\n",
       "      <td>Purchase Address</td>\n",
       "    </tr>\n",
       "    <tr>\n",
       "      <th>freq</th>\n",
       "      <td>576</td>\n",
       "      <td>35772</td>\n",
       "      <td>271692</td>\n",
       "      <td>35772</td>\n",
       "      <td>576</td>\n",
       "    </tr>\n",
       "  </tbody>\n",
       "</table>\n",
       "</div>"
      ],
      "text/plain": [
       "        Order ID               Product Quantity Ordered Price Each  \\\n",
       "count     300444                300444           300444     300444   \n",
       "unique     24007                    20                8         19   \n",
       "top     Order ID  USB-C Charging Cable                1      11.95   \n",
       "freq         576                 35772           271692      35772   \n",
       "\n",
       "        Purchase Address  \n",
       "count             300444  \n",
       "unique             23215  \n",
       "top     Purchase Address  \n",
       "freq                 576  "
      ]
     },
     "execution_count": 31,
     "metadata": {},
     "output_type": "execute_result"
    }
   ],
   "source": [
    "# la desciption des colonnes\n",
    "df.describe()"
   ]
  },
  {
   "cell_type": "code",
   "execution_count": null,
   "id": "767c8152",
   "metadata": {},
   "outputs": [],
   "source": []
  }
 ],
 "metadata": {
  "kernelspec": {
   "display_name": "Python 3 (ipykernel)",
   "language": "python",
   "name": "python3"
  },
  "language_info": {
   "codemirror_mode": {
    "name": "ipython",
    "version": 3
   },
   "file_extension": ".py",
   "mimetype": "text/x-python",
   "name": "python",
   "nbconvert_exporter": "python",
   "pygments_lexer": "ipython3",
   "version": "3.9.13"
  },
  "nbTranslate": {
   "displayLangs": [
    "*"
   ],
   "hotkey": "alt-t",
   "langInMainMenu": true,
   "sourceLang": "en",
   "targetLang": "fr",
   "useGoogleTranslate": true
  },
  "varInspector": {
   "cols": {
    "lenName": 16,
    "lenType": 16,
    "lenVar": 40
   },
   "kernels_config": {
    "python": {
     "delete_cmd_postfix": "",
     "delete_cmd_prefix": "del ",
     "library": "var_list.py",
     "varRefreshCmd": "print(var_dic_list())"
    },
    "r": {
     "delete_cmd_postfix": ") ",
     "delete_cmd_prefix": "rm(",
     "library": "var_list.r",
     "varRefreshCmd": "cat(var_dic_list()) "
    }
   },
   "types_to_exclude": [
    "module",
    "function",
    "builtin_function_or_method",
    "instance",
    "_Feature"
   ],
   "window_display": false
  }
 },
 "nbformat": 4,
 "nbformat_minor": 5
}
